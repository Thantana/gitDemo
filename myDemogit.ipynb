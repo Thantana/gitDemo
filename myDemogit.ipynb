{
  "nbformat": 4,
  "nbformat_minor": 0,
  "metadata": {
    "colab": {
      "name": "myDemogit.ipynb",
      "provenance": [],
      "authorship_tag": "ABX9TyNB4JAbYxTH+czIoVphwk5W",
      "include_colab_link": true
    },
    "kernelspec": {
      "name": "python3",
      "display_name": "Python 3"
    },
    "language_info": {
      "name": "python"
    }
  },
  "cells": [
    {
      "cell_type": "markdown",
      "metadata": {
        "id": "view-in-github",
        "colab_type": "text"
      },
      "source": [
        "<a href=\"https://colab.research.google.com/github/Thantana/gitDemo/blob/main/myDemogit.ipynb\" target=\"_parent\"><img src=\"https://colab.research.google.com/assets/colab-badge.svg\" alt=\"Open In Colab\"/></a>"
      ]
    },
    {
      "cell_type": "code",
      "execution_count": null,
      "metadata": {
        "colab": {
          "base_uri": "https://localhost:8080/"
        },
        "id": "OepV7pLWDWkx",
        "outputId": "39841630-c42d-4fd9-c137-b4fbc9bd77b1"
      },
      "outputs": [
        {
          "output_type": "stream",
          "name": "stdout",
          "text": [
            "Hello Github\n"
          ]
        }
      ],
      "source": [
        "print('Hello Github')"
      ]
    },
    {
      "cell_type": "code",
      "source": [
        "print('second helelo')"
      ],
      "metadata": {
        "id": "L8qogb7nFAYT",
        "outputId": "56eacd8e-9af5-4b2b-e842-7c79883ea057",
        "colab": {
          "base_uri": "https://localhost:8080/"
        }
      },
      "execution_count": 2,
      "outputs": [
        {
          "output_type": "stream",
          "name": "stdout",
          "text": [
            "second helelo\n"
          ]
        }
      ]
    }
  ]
}